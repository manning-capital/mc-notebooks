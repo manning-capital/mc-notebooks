{
 "cells": [
  {
   "cell_type": "markdown",
   "id": "341ef835",
   "metadata": {},
   "source": [
    "## Geometric Brownian Motion\n",
    "\n",
    "The following is the equation for geometric brownian motion:\n",
    "\n",
    "$$\n",
    "\\frac{\\Delta S}{S} = \\mu \\Delta t + \\sigma \\epsilon \\sqrt{\\Delta t}\n",
    "$$\n",
    "\n",
    "Where:\n",
    "$$\n",
    "S = \\text{the stock price}\n",
    "$$\n",
    "$$\n",
    "\\Delta S = \\text{the change in stock price}\n",
    "$$\n",
    "$$\n",
    "\\mu = \\text{the expected return} \n",
    "$$\n",
    "$$\n",
    "\\sigma = \\text{the standard deviation of returns}\n",
    "$$\n",
    "$$\n",
    "\\epsilon = \\text{the random variable} \n",
    "$$\n",
    "$$\n",
    "\\Delta t = \\text{the elapsed time period}\n",
    "$$\n",
    "Re-aranging the equation we get:\n",
    "$$\n",
    "\\Delta S = S \\times (\\mu \\Delta t + \\sigma \\epsilon \\sqrt{\\Delta t})\n",
    "$$\n",
    "So we can model different trials by calculating $\\Delta S$ at each time step, calculating the next price like the following:\n",
    "$$\n",
    "S_{t} = S_{t-1} + S_{t-1} \\times (\\mu \\Delta t + \\sigma \\epsilon \\sqrt{\\Delta t})\n",
    "$$\n",
    "Simplifying:\n",
    "$$\n",
    "S_{t} = S_{t-1} (1 + (\\mu \\Delta t + \\sigma \\epsilon \\sqrt{\\Delta t}))\n",
    "$$"
   ]
  },
  {
   "cell_type": "markdown",
   "id": "169d6e87",
   "metadata": {},
   "source": [
    "## Mean-reverting jump-diffusion model\n",
    "\n",
    "An extension to the OU process is a mean-reverting jump-diffusion model that incorporates sudden price jumps in addition to continuous fluctuations. A simplified representation of such a model is as follows:\n",
    "\n",
    "$$\n",
    "\\delta S_{t}=\\alpha (S^{*}-\\ln S_{t})S_{t}dt+S_{t}\\sigma dZ_{t}+S_{t}Kdq_{t}\n",
    "$$\n",
    "\n",
    "Where: \n",
    "\n",
    "$\\(S_{t}\\)$: The spot price of the asset at time \\(t\\).\\(\\alpha \\): The mean-reversion rate.\\(S^{*}\\): The mean-reversion level, or the long-term equilibrium price to which the spot price tends to revert.\\(\\sigma \\): The volatility of the spot price's continuous component.\\(dZ_{t}\\): The increment of a standard Brownian motion (Wiener process), representing continuous random fluctuations.\\(K\\): The jump size, which can be modeled using a probability distribution (e.g., normal distribution).\\(dq_{t}\\): A Poisson process that determines the occurrence of jumps.\\(dq_{t}=1\\) with probability \\(\\lambda dt\\)\\(dq_{t}=0\\) with probability \\(1-\\lambda dt\\)\\(\\lambda \\): The average number of jumps per year (jump intensity)."
   ]
  },
  {
   "cell_type": "code",
   "execution_count": null,
   "id": "bcaa4d4d",
   "metadata": {},
   "outputs": [],
   "source": []
  },
  {
   "cell_type": "code",
   "execution_count": null,
   "id": "b86853f1",
   "metadata": {},
   "outputs": [],
   "source": [
    "from tqdm.notebook import tqdm\n",
    "import datetime as dt\n",
    "import numpy as np\n",
    "import pandas as pd\n",
    "import matplotlib.pyplot as plt\n",
    "\n",
    "mu = np.linspace(-0.5, 0.5, 2)\n",
    "N_mu = len(mu)\n",
    "N_sims = 1000\n",
    "N_days = 120\n",
    "\n",
    "start = dt.datetime.now()\n",
    "end = start + dt.timedelta(days=N_days)\n",
    "T = np.arange(start, end, np.timedelta64(1, '1m'))\n",
    "\n",
    "S_0 = 100\n",
    "epsilon = np.random.normal(0, 1, (N_sims, len(T)))\n",
    "sigma = np.ones((N_sims, len(T))) * 0.075\n",
    "delta_t = np.ones((N_sims, len(T))) * (1 / len(T))\n",
    "mu = -1 * np.ones((N_sims, len(T))) * 0.10\n",
    "S = S_0 * np.cumprod(1 + mu * delta_t + sigma * epsilon * np.sqrt(delta_t), axis=1)\n",
    "\n",
    "# for i in range(N_sims):\n",
    "#     time_stride = 100\n",
    "#     T_subset = T[::time_stride]\n",
    "#     S_subset = S[i, ::time_stride]\n",
    "#     plt.plot(T_subset, S_subset)\n",
    "# plt.show()"
   ]
  },
  {
   "cell_type": "code",
   "execution_count": null,
   "id": "c367c812",
   "metadata": {},
   "outputs": [],
   "source": [
    "# Create kernel for convolution\n",
    "window = 1000\n",
    "kernel = np.ones(window) / window\n",
    "\n",
    "# Apply convolution to each row\n",
    "result = np.apply_along_axis(\n",
    "    lambda x: np.convolve(x, kernel, mode='valid'), \n",
    "    axis=1, \n",
    "    arr=S\n",
    ")\n",
    "S_means = np.full_like(S, np.nan)\n",
    "S_means[:, window-1:] = result\n",
    "\n",
    "# Fill the beginning with expanding means\n",
    "for i in range(S.shape[0]):  # For each row\n",
    "    for j in range(window-1):  # For each position before full window\n",
    "        if j == 0:\n",
    "            # First position: just the first value\n",
    "            S_means[i, j] = S[i, j]\n",
    "        else:\n",
    "            # Other positions: mean of all available data points\n",
    "            S_means[i, j] = np.mean(S[i, :j+1])\n",
    "        \n",
    "# Plot\n",
    "# for i in range(N_sims):\n",
    "#     time_stride = 100\n",
    "#     T_subset = T[::time_stride]\n",
    "#     S_means_subset = S_means[i, ::time_stride]\n",
    "#     plt.plot(T_subset, S_means_subset)\n",
    "# plt.show()"
   ]
  },
  {
   "cell_type": "code",
   "execution_count": null,
   "id": "b237f0bf",
   "metadata": {},
   "outputs": [],
   "source": [
    "# Compute the buy and sell signals.\n",
    "threshold = 0.001\n",
    "S_signals = (np.abs(S - S_means) / S_means) > threshold\n",
    "S_buys = S_signals & (S_means > S)\n",
    "S_sells = S_signals & (S_means < S)\n",
    "\n",
    "# Compute the cumulative actions.\n",
    "S_actions = np.zeros_like(S)\n",
    "S_actions[S_buys] = 1\n",
    "S_actions[S_sells] = -1\n",
    "S_actions = np.where(S_buys & S_sells, 0, S_actions)\n",
    "\n",
    "# Only keep actions that do not repeat, excluding zeros.\n",
    "def keep_non_repeating(x):\n",
    "    non_zero_mask = np.where(x != 0)\n",
    "    keep = np.take(non_zero_mask, np.where(np.diff(x[non_zero_mask], prepend=0) != 0)[0])\n",
    "    keep_mask = np.zeros_like(x, dtype=bool)\n",
    "    keep_mask[keep] = True\n",
    "    return np.where(keep_mask, x, 0)\n",
    "S_actions = np.apply_along_axis(keep_non_repeating, axis=1, arr=S_actions)\n",
    "\n",
    "S_actions"
   ]
  },
  {
   "cell_type": "code",
   "execution_count": null,
   "id": "60d708c0",
   "metadata": {},
   "outputs": [],
   "source": [
    "# def keep_non_repeating(x):\n",
    "def final_return(x):\n",
    "    sells = np.abs(x[np.where(x < 0)[0]])\n",
    "    buys = np.abs(x[np.where(x > 0)[0]])\n",
    "\n",
    "    non_zero_mask = x != 0\n",
    "    if np.any(non_zero_mask):\n",
    "        first_action_idx = np.argmax(non_zero_mask)\n",
    "        if x[first_action_idx] < 0:\n",
    "            # First action is a sell, remove it\n",
    "            sells = sells[1:] if len(sells) > 1 else np.array([])\n",
    "\n",
    "    max_len = max(len(sells), len(buys))\n",
    "    sells_padded = np.concatenate([sells, np.ones(max_len - len(sells))])\n",
    "    buys_padded = np.concatenate([buys, np.ones(max_len - len(buys))])\n",
    "\n",
    "    return np.prod(sells_padded / buys_padded)\n",
    "S_returns = np.apply_along_axis(final_return, axis=1, arr=S_actions * S)\n",
    "\n",
    "S_returns"
   ]
  },
  {
   "cell_type": "code",
   "execution_count": null,
   "id": "7c43b21f",
   "metadata": {},
   "outputs": [],
   "source": [
    "pd.Series(S_returns).describe()"
   ]
  },
  {
   "cell_type": "code",
   "execution_count": null,
   "id": "6263aa14",
   "metadata": {},
   "outputs": [],
   "source": [
    "pd.Series(S[:, -1] / S[:, 0]).describe()"
   ]
  },
  {
   "cell_type": "code",
   "execution_count": null,
   "id": "2b3f1d4f",
   "metadata": {},
   "outputs": [],
   "source": [
    "import numpy as np\n",
    "import pandas as pd\n",
    "from sklearn.ensemble import RandomForestClassifier, GradientBoostingClassifier\n",
    "from sklearn.linear_model import LogisticRegression\n",
    "from sklearn.preprocessing import StandardScaler\n",
    "from sklearn.model_selection import train_test_split\n",
    "from sklearn.metrics import classification_report, confusion_matrix\n",
    "import matplotlib.pyplot as plt\n",
    "\n",
    "def create_ml_features(S, window_sizes=[50, 100, 200, 500]):\n",
    "    \"\"\"\n",
    "    Create machine learning features for mean reversion strategy.\n",
    "    \"\"\"\n",
    "    N, T = S.shape\n",
    "    features = []\n",
    "    \n",
    "    for i in range(N):\n",
    "        price_series = S[i, :]\n",
    "        row_features = []\n",
    "        \n",
    "        for window in window_sizes:\n",
    "            if window < T:\n",
    "                # Rolling mean and std\n",
    "                rolling_mean = pd.Series(price_series).rolling(window=window).mean().fillna(method='bfill')\n",
    "                rolling_std = pd.Series(price_series).rolling(window=window).std().fillna(method='bfill')\n",
    "                \n",
    "                # Z-score (distance from mean)\n",
    "                z_score = (price_series - rolling_mean) / rolling_std\n",
    "                \n",
    "                # Price momentum\n",
    "                momentum = price_series / rolling_mean - 1\n",
    "                \n",
    "                # Volatility ratio\n",
    "                vol_ratio = rolling_std / rolling_mean\n",
    "                \n",
    "                # RSI-like indicator\n",
    "                price_diff = np.diff(price_series, prepend=price_series[0])\n",
    "                gains = np.where(price_diff > 0, price_diff, 0)\n",
    "                losses = np.where(price_diff < 0, -price_diff, 0)\n",
    "                avg_gain = pd.Series(gains).rolling(window=window).mean().fillna(0)\n",
    "                avg_loss = pd.Series(losses).rolling(window=window).mean().fillna(0)\n",
    "                rs = avg_gain / (avg_loss + 1e-8)\n",
    "                rsi = 100 - (100 / (1 + rs))\n",
    "                \n",
    "                # Bollinger Bands\n",
    "                bb_upper = rolling_mean + 2 * rolling_std\n",
    "                bb_lower = rolling_mean - 2 * rolling_std\n",
    "                bb_position = (price_series - bb_lower) / (bb_upper - bb_lower)\n",
    "                \n",
    "                # Combine features\n",
    "                window_features = np.column_stack([\n",
    "                    z_score, momentum, vol_ratio, rsi, bb_position\n",
    "                ])\n",
    "                row_features.append(window_features)\n",
    "        \n",
    "        # Concatenate all window features\n",
    "        if row_features:\n",
    "            all_features = np.concatenate(row_features, axis=1)\n",
    "            features.append(all_features)\n",
    "    \n",
    "    return np.array(features)\n",
    "\n",
    "def create_ml_labels(S_actions, lookahead=10):\n",
    "    \"\"\"\n",
    "    Create labels for machine learning based on future returns.\n",
    "    \"\"\"\n",
    "    N, T = S_actions.shape\n",
    "    labels = np.zeros((N, T))\n",
    "    \n",
    "    for i in range(N):\n",
    "        actions = S_actions[i, :]\n",
    "        prices = S[i, :]\n",
    "        \n",
    "        for t in range(T - lookahead):\n",
    "            if actions[t] != 0:  # If there's an action\n",
    "                # Calculate future return\n",
    "                future_return = (prices[t + lookahead] - prices[t]) / prices[t]\n",
    "                \n",
    "                # Label based on action and future return\n",
    "                if actions[t] == 1:  # Buy\n",
    "                    labels[i, t] = 1 if future_return > 0.01 else 0  # 1% threshold\n",
    "                elif actions[t] == -1:  # Sell\n",
    "                    labels[i, t] = 1 if future_return < -0.01 else 0\n",
    "    \n",
    "    return labels\n",
    "\n",
    "# Create features and labels\n",
    "print(\"Creating ML features...\")\n",
    "ml_features = create_ml_features(S)\n",
    "ml_labels = create_ml_labels(S_actions, lookahead=20)\n",
    "\n",
    "print(f\"Features shape: {ml_features.shape}\")\n",
    "print(f\"Labels shape: {ml_labels.shape}\")"
   ]
  },
  {
   "cell_type": "code",
   "execution_count": null,
   "id": "612db0be",
   "metadata": {},
   "outputs": [],
   "source": [
    "def compare_strategies(S, original_signals, ml_signals, ensemble_signals):\n",
    "    \"\"\"\n",
    "    Compare performance of different strategies.\n",
    "    \"\"\"\n",
    "    strategies = {\n",
    "        'Original': original_signals,\n",
    "        'ML-Enhanced': ml_signals,\n",
    "        'Ensemble': ensemble_signals\n",
    "    }\n",
    "    \n",
    "    results = {}\n",
    "    \n",
    "    for name, signals in strategies.items():\n",
    "        print(f\"\\nAnalyzing {name} strategy...\")\n",
    "        \n",
    "        # Calculate returns using the same method as original\n",
    "        def calculate_strategy_return(x):\n",
    "            sells = np.abs(x[np.where(x < 0)[0]])\n",
    "            buys = np.abs(x[np.where(x > 0)[0]])\n",
    "            \n",
    "            non_zero_mask = x != 0\n",
    "            if np.any(non_zero_mask):\n",
    "                first_action_idx = np.argmax(non_zero_mask)\n",
    "                if x[first_action_idx] < 0:\n",
    "                    sells = sells[1:] if len(sells) > 1 else np.array([])\n",
    "            \n",
    "            max_len = max(len(sells), len(buys))\n",
    "            sells_padded = np.concatenate([sells, np.ones(max_len - len(sells))])\n",
    "            buys_padded = np.concatenate([buys, np.ones(max_len - len(buys))])\n",
    "            \n",
    "            return np.prod(sells_padded / buys_padded)\n",
    "        \n",
    "        strategy_returns = np.apply_along_axis(calculate_strategy_return, axis=1, arr=signals * S)\n",
    "        \n",
    "        # Calculate statistics\n",
    "        results[name] = {\n",
    "            'mean_return': np.mean(strategy_returns),\n",
    "            'std_return': np.std(strategy_returns),\n",
    "            'sharpe_ratio': np.mean(strategy_returns) / np.std(strategy_returns),\n",
    "            'win_rate': np.mean(strategy_returns > 1),\n",
    "            'max_return': np.max(strategy_returns),\n",
    "            'min_return': np.min(strategy_returns),\n",
    "            'returns': strategy_returns\n",
    "        }\n",
    "        \n",
    "        print(f\"Mean Return: {results[name]['mean_return']:.4f}\")\n",
    "        print(f\"Sharpe Ratio: {results[name]['sharpe_ratio']:.4f}\")\n",
    "        print(f\"Win Rate: {results[name]['win_rate']:.3f}\")\n",
    "    \n",
    "    return results\n",
    "\n",
    "# Compare strategies\n",
    "strategy_results = compare_strategies(S, S_actions, ml_signals, ensemble_signals)"
   ]
  },
  {
   "cell_type": "code",
   "execution_count": null,
   "id": "3e260264",
   "metadata": {},
   "outputs": [],
   "source": [
    "np.where(S_returns == np.max(S_returns))"
   ]
  },
  {
   "cell_type": "code",
   "execution_count": null,
   "id": "a6c45dbc",
   "metadata": {},
   "outputs": [],
   "source": [
    "# Initialize the cash and positions.\n",
    "initial_cash = 10000\n",
    "S_positions = np.zeros(S.shape)\n",
    "S_cash = np.full(S.shape, initial_cash)"
   ]
  },
  {
   "cell_type": "code",
   "execution_count": null,
   "id": "f2e24ccf",
   "metadata": {},
   "outputs": [],
   "source": [
    "S_cumulative_assets = np.cumsum(S_actions, axis=1)\n",
    "S_cumulative_assets"
   ]
  },
  {
   "cell_type": "code",
   "execution_count": null,
   "id": "4e11a726",
   "metadata": {},
   "outputs": [],
   "source": [
    "np.where(S_actions == 1, S, 0)"
   ]
  },
  {
   "cell_type": "code",
   "execution_count": null,
   "id": "a723a7b8",
   "metadata": {},
   "outputs": [],
   "source": [
    "S_buys = np.where(S_actions == 1, 1, 0)\n",
    "S_sells = np.where(S_actions == -1, 1, 0)\n"
   ]
  },
  {
   "cell_type": "code",
   "execution_count": null,
   "id": "ab99ac1b",
   "metadata": {},
   "outputs": [],
   "source": [
    "actions = np.array([0, 0, 1, 0, 0, -1, 0, 0, 0, 0, 1, 0, 0, 0])\n",
    "prices = np.array([100, 101, 102, 103, 104, 103, 102, 101, 100, 99, 98, 97, 96, 95])"
   ]
  },
  {
   "cell_type": "code",
   "execution_count": null,
   "id": "29413068",
   "metadata": {},
   "outputs": [],
   "source": [
    "actions = S_actions[0, :]\n",
    "prices = S[0, :]"
   ]
  },
  {
   "cell_type": "code",
   "execution_count": null,
   "id": "19064623",
   "metadata": {},
   "outputs": [],
   "source": [
    "positions = np.zeros_like(actions)\n",
    "cash = np.zeros_like(actions)\n",
    "initial_cash = 10000\n",
    "cash[0] = initial_cash\n",
    "\n",
    "for i in range(1, len(actions)):\n",
    "    if actions[i] == 1:\n",
    "        positions[i] = cash[i-1] / prices[i]\n",
    "        cash[i] = 0\n",
    "    elif actions[i] == -1:\n",
    "        positions[i] = 0\n",
    "        cash[i] = positions[i-1] * prices[i]\n",
    "    else:\n",
    "        positions[i] = positions[i-1]\n",
    "        cash[i] = cash[i-1]\n",
    "\n",
    "cumulative_assets = np.cumsum(actions)\n",
    "\n",
    "initial_cash = 10000\n",
    "cash[0] = initial_cash\n",
    "\n",
    "display(pd.DataFrame({\n",
    "    'actions': actions,\n",
    "    'prices': prices,\n",
    "    'positions': positions,\n",
    "    'cumulative_assets': cumulative_assets,\n",
    "    'cash': cash\n",
    "}))\n"
   ]
  },
  {
   "cell_type": "code",
   "execution_count": null,
   "id": "008871ee",
   "metadata": {},
   "outputs": [],
   "source": [
    "np.where(S_actions[428, :] == -1)[0]"
   ]
  },
  {
   "cell_type": "code",
   "execution_count": null,
   "id": "c7fffb71",
   "metadata": {},
   "outputs": [],
   "source": [
    "np.where(S_actions[428, :] == 1)[0]"
   ]
  },
  {
   "cell_type": "code",
   "execution_count": null,
   "id": "64c9f243",
   "metadata": {},
   "outputs": [],
   "source": [
    "plt.plot(S[428, :])"
   ]
  },
  {
   "cell_type": "code",
   "execution_count": null,
   "id": "13c42af0",
   "metadata": {},
   "outputs": [],
   "source": [
    "positions = np.zeros_like(actions)\n",
    "cash = np.zeros_like(actions)\n",
    "initial_cash = 10000\n",
    "cash[0] = initial_cash\n",
    "\n",
    "cumulative_assets = np.cumsum(actions)\n",
    "\n",
    "display(pd.DataFrame({\n",
    "    'actions': actions,\n",
    "    'prices': prices,\n",
    "    'positions': positions,\n",
    "    'cumulative_assets': cumulative_assets,\n",
    "    'cash': cash\n",
    "}))"
   ]
  },
  {
   "cell_type": "code",
   "execution_count": null,
   "id": "842167c7",
   "metadata": {},
   "outputs": [],
   "source": [
    "103 * 95"
   ]
  },
  {
   "cell_type": "code",
   "execution_count": null,
   "id": "9cc9ee1d",
   "metadata": {},
   "outputs": [],
   "source": [
    "\n",
    "\n",
    "for i in range(1, len(S)):\n",
    "    if actions[i] == 1:\n",
    "        positions[i] = cash[i-1] / prices[i]\n",
    "        cash[i] = 0\n",
    "    elif actions[i] == -1:"
   ]
  },
  {
   "cell_type": "code",
   "execution_count": null,
   "id": "42384c22",
   "metadata": {},
   "outputs": [],
   "source": [
    "total_positions[-1]"
   ]
  },
  {
   "cell_type": "code",
   "execution_count": null,
   "id": "8e49ca23",
   "metadata": {},
   "outputs": [],
   "source": [
    "positions[-1] * prices[-1]"
   ]
  },
  {
   "cell_type": "code",
   "execution_count": null,
   "id": "35ca0040",
   "metadata": {},
   "outputs": [],
   "source": [
    "# Solve using least squares\n",
    "X = np.linspace(0, 1, len(T))\n",
    "X_with_intercept = np.column_stack([np.ones(len(T)), X])\n",
    "coefficients, residuals, rank, s = np.linalg.lstsq(X_with_intercept, S[0, :], rcond=None)\n",
    "\n",
    "# Plot the data and the fitted line\n",
    "plt.plot(T, S[0, :], label='Data')\n",
    "plt.plot(T, coefficients[0] + coefficients[1] * X, label='Fitted line')\n",
    "plt.legend()\n",
    "plt.show()"
   ]
  },
  {
   "cell_type": "code",
   "execution_count": null,
   "id": "40bf88b3",
   "metadata": {},
   "outputs": [],
   "source": [
    "window_size = 1000\n",
    "step_size = 1\n",
    "\n",
    "S_means = np.zeros((len(T) - window_size + 1))\n",
    "\n",
    "for i in range(0, len(T) - window_size + 1, step_size):\n",
    "    X = np.linspace(0, 1, window_size)  \n",
    "    X_with_intercept = np.column_stack([np.ones(window_size), X])\n",
    "    coefficients_i, _, _, _ = np.linalg.lstsq(X_with_intercept, S[0, i:i+window_size], rcond=None)\n",
    "    S_means[i] = coefficients_i[0] + coefficients_i[1]\n",
    "\n",
    "plt.plot(T[window_size-1:], S[0, window_size-1:], label='Data')\n",
    "plt.plot(T[window_size-1:], S_means, label='Predicted')\n",
    "plt.legend()\n",
    "plt.show()"
   ]
  },
  {
   "cell_type": "code",
   "execution_count": null,
   "id": "2d01403f",
   "metadata": {},
   "outputs": [],
   "source": [
    "len(T) - window_size"
   ]
  },
  {
   "cell_type": "code",
   "execution_count": null,
   "id": "94d32e03",
   "metadata": {},
   "outputs": [],
   "source": [
    "len(S[0, :len(T) - window_size + 1])"
   ]
  },
  {
   "cell_type": "code",
   "execution_count": null,
   "id": "c538ee38",
   "metadata": {},
   "outputs": [],
   "source": [
    "len(S_means)"
   ]
  },
  {
   "cell_type": "code",
   "execution_count": null,
   "id": "41b4b651",
   "metadata": {},
   "outputs": [],
   "source": [
    "((S - S_means) / S_means) > 0.001"
   ]
  }
 ],
 "metadata": {
  "kernelspec": {
   "display_name": ".venv",
   "language": "python",
   "name": "python3"
  },
  "language_info": {
   "codemirror_mode": {
    "name": "ipython",
    "version": 3
   },
   "file_extension": ".py",
   "mimetype": "text/x-python",
   "name": "python",
   "nbconvert_exporter": "python",
   "pygments_lexer": "ipython3",
   "version": "3.12.9"
  }
 },
 "nbformat": 4,
 "nbformat_minor": 5
}
