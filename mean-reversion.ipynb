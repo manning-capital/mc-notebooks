{
 "cells": [
  {
   "cell_type": "markdown",
   "id": "341ef835",
   "metadata": {},
   "source": [
    "## Geometric Brownian Motion\n",
    "\n",
    "The following is the equation for geometric brownian motion:\n",
    "\n",
    "$$\n",
    "\\frac{\\Delta S}{S} = \\mu \\Delta t + \\sigma \\epsilon \\sqrt{\\Delta t}\n",
    "$$\n",
    "\n",
    "Where:\n",
    "$$\n",
    "S = \\text{the stock price}\n",
    "$$\n",
    "$$\n",
    "\\Delta S = \\text{the change in stock price}\n",
    "$$\n",
    "$$\n",
    "\\mu = \\text{the expected return} \n",
    "$$\n",
    "$$\n",
    "\\sigma = \\text{the standard deviation of returns}\n",
    "$$\n",
    "$$\n",
    "\\epsilon = \\text{the random variable} \n",
    "$$\n",
    "$$\n",
    "\\Delta t = \\text{the elapsed time period}\n",
    "$$\n",
    "Re-aranging the equation we get:\n",
    "$$\n",
    "\\Delta S = S \\times (\\mu \\Delta t + \\sigma \\epsilon \\sqrt{\\Delta t})\n",
    "$$\n",
    "So we can model different trials by calculating $\\Delta S$ at each time step, calculating the next price like the following:\n",
    "$$\n",
    "S_{t} = S_{t-1} + S_{t-1} \\times (\\mu \\Delta t + \\sigma \\epsilon \\sqrt{\\Delta t})\n",
    "$$\n",
    "Simplifying:\n",
    "$$\n",
    "S_{t} = S_{t-1} (1 + (\\mu \\Delta t + \\sigma \\epsilon \\sqrt{\\Delta t}))\n",
    "$$"
   ]
  },
  {
   "cell_type": "code",
   "execution_count": null,
   "id": "b86853f1",
   "metadata": {},
   "outputs": [],
   "source": [
    "from tqdm.notebook import tqdm\n",
    "import datetime as dt\n",
    "import numpy as np\n",
    "import matplotlib.pyplot as plt\n",
    "\n",
    "mu = np.linspace(-0.5, 0.5, 2)\n",
    "N_mu = len(mu)\n",
    "N_sims = 1000\n",
    "N_days = 30\n",
    "\n",
    "start = dt.datetime.now()\n",
    "end = start + dt.timedelta(days=N_days)\n",
    "T = np.arange(start, end, np.timedelta64(1, '1m'))\n",
    "\n",
    "S_0 = 100\n",
    "epsilon = np.random.uniform(-1, 1, (N_sims, len(T)))\n",
    "sigma = np.ones((N_sims, len(T))) * 0.075\n",
    "delta_t = np.ones((N_sims, len(T))) * (1 / len(T))\n",
    "mu = np.ones((N_sims, len(T))) * 0.05\n",
    "S = S_0 * np.cumprod(1 + mu * delta_t + sigma * epsilon * np.sqrt(delta_t), axis=1)\n",
    "\n",
    "for i in range(N_sims):\n",
    "    time_stride = 100\n",
    "    T_subset = T[::time_stride]\n",
    "    S_subset = S[i, ::time_stride]\n",
    "    plt.plot(T_subset, S_subset)\n",
    "plt.show()"
   ]
  },
  {
   "cell_type": "code",
   "execution_count": null,
   "id": "c367c812",
   "metadata": {},
   "outputs": [],
   "source": [
    "# Create kernel for convolution\n",
    "window = 1000\n",
    "kernel = np.ones(window) / window\n",
    "\n",
    "# Apply convolution to each row\n",
    "result = np.apply_along_axis(\n",
    "    lambda x: np.convolve(x, kernel, mode='valid'), \n",
    "    axis=1, \n",
    "    arr=S\n",
    ")\n",
    "S_means = np.full_like(S, np.nan)\n",
    "S_means[:, window-1:] = result\n",
    "\n",
    "# Fill the beginning with expanding means\n",
    "for i in range(S.shape[0]):  # For each row\n",
    "    for j in range(window-1):  # For each position before full window\n",
    "        if j == 0:\n",
    "            # First position: just the first value\n",
    "            S_means[i, j] = S[i, j]\n",
    "        else:\n",
    "            # Other positions: mean of all available data points\n",
    "            S_means[i, j] = np.mean(S[i, :j+1])\n",
    "        \n",
    "# Plot\n",
    "for i in range(N_sims):\n",
    "    time_stride = 100\n",
    "    T_subset = T[::time_stride]\n",
    "    S_means_subset = S_means[i, ::time_stride]\n",
    "    plt.plot(T_subset, S_means_subset)\n",
    "plt.show()"
   ]
  },
  {
   "cell_type": "code",
   "execution_count": null,
   "id": "b237f0bf",
   "metadata": {},
   "outputs": [],
   "source": [
    "# Compute the buy and sell signals.\n",
    "threshold = 0.001\n",
    "S_signals = (np.abs(S - S_means) / S_means) > threshold\n",
    "S_buys = S_signals & (S_means > S)\n",
    "S_sells = S_signals & (S_means < S)\n",
    "\n",
    "# Compute the cumulative actions.\n",
    "S_actions = np.zeros_like(S)\n",
    "S_actions[S_buys] = 1\n",
    "S_actions[S_sells] = -1\n",
    "S_actions = np.where(S_buys & S_sells, 0, S_actions)\n",
    "\n",
    "# Only keep actions that do not repeat, excluding zeros.\n",
    "def keep_non_repeating(x):\n",
    "    non_zero_mask = np.where(x != 0)\n",
    "    keep = np.take(non_zero_mask, np.where(np.diff(x[non_zero_mask], prepend=0) != 0)[0])\n",
    "    keep_mask = np.zeros_like(x, dtype=bool)\n",
    "    keep_mask[keep] = True\n",
    "    return np.where(keep_mask, x, 0)\n",
    "S_actions = np.apply_along_axis(keep_non_repeating, axis=1, arr=S_actions)\n",
    "\n",
    "S_actions"
   ]
  },
  {
   "cell_type": "code",
   "execution_count": null,
   "id": "35ca0040",
   "metadata": {},
   "outputs": [],
   "source": [
    "# Solve using least squares\n",
    "X = np.linspace(0, 1, len(T))\n",
    "X_with_intercept = np.column_stack([np.ones(len(T)), X])\n",
    "coefficients, residuals, rank, s = np.linalg.lstsq(X_with_intercept, S[0, :], rcond=None)\n",
    "\n",
    "# Plot the data and the fitted line\n",
    "plt.plot(T, S[0, :], label='Data')\n",
    "plt.plot(T, coefficients[0] + coefficients[1] * X, label='Fitted line')\n",
    "plt.legend()\n",
    "plt.show()"
   ]
  },
  {
   "cell_type": "code",
   "execution_count": null,
   "id": "40bf88b3",
   "metadata": {},
   "outputs": [],
   "source": [
    "window_size = 1000\n",
    "step_size = 1\n",
    "\n",
    "S_means = np.zeros((len(T) - window_size + 1))\n",
    "\n",
    "for i in range(0, len(T) - window_size + 1, step_size):\n",
    "    X = np.linspace(0, 1, window_size)  \n",
    "    X_with_intercept = np.column_stack([np.ones(window_size), X])\n",
    "    coefficients_i, _, _, _ = np.linalg.lstsq(X_with_intercept, S[0, i:i+window_size], rcond=None)\n",
    "    S_means[i] = coefficients_i[0] + coefficients_i[1]\n",
    "\n",
    "plt.plot(T[window_size-1:], S[0, window_size-1:], label='Data')\n",
    "plt.plot(T[window_size-1:], S_means, label='Predicted')\n",
    "plt.legend()\n",
    "plt.show()"
   ]
  },
  {
   "cell_type": "code",
   "execution_count": null,
   "id": "2d01403f",
   "metadata": {},
   "outputs": [],
   "source": [
    "len(T) - window_size"
   ]
  },
  {
   "cell_type": "code",
   "execution_count": null,
   "id": "94d32e03",
   "metadata": {},
   "outputs": [],
   "source": [
    "len(S[0, :len(T) - window_size + 1])"
   ]
  },
  {
   "cell_type": "code",
   "execution_count": null,
   "id": "c538ee38",
   "metadata": {},
   "outputs": [],
   "source": [
    "len(S_means)"
   ]
  },
  {
   "cell_type": "code",
   "execution_count": null,
   "id": "41b4b651",
   "metadata": {},
   "outputs": [],
   "source": [
    "((S - S_means) / S_means) > 0.001"
   ]
  }
 ],
 "metadata": {
  "kernelspec": {
   "display_name": ".venv",
   "language": "python",
   "name": "python3"
  },
  "language_info": {
   "codemirror_mode": {
    "name": "ipython",
    "version": 3
   },
   "file_extension": ".py",
   "mimetype": "text/x-python",
   "name": "python",
   "nbconvert_exporter": "python",
   "pygments_lexer": "ipython3",
   "version": "3.12.9"
  }
 },
 "nbformat": 4,
 "nbformat_minor": 5
}
